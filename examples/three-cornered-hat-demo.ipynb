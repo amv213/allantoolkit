{
 "cells": [
  {
   "cell_type": "markdown",
   "metadata": {},
   "source": [
    "# Three-cornered-hat test\n",
    "See http://www.wriley.com/3-CornHat.htm\n",
    "\n",
    "we test ADEV etc. by calculations on synthetic data\n",
    "with known slopes of ADEV"
   ]
  },
  {
   "cell_type": "markdown",
   "metadata": {},
   "source": [
    "#### Import packages and setup notebook"
   ]
  },
  {
   "cell_type": "code",
   "execution_count": 1,
   "metadata": {},
   "outputs": [],
   "source": [
    "%matplotlib inline"
   ]
  },
  {
   "cell_type": "code",
   "execution_count": 2,
   "metadata": {},
   "outputs": [],
   "source": [
    "import numpy\n",
    "import matplotlib.pyplot as plt \n",
    "import allantools\n",
    "from allantools import noise"
   ]
  },
  {
   "cell_type": "code",
   "execution_count": 3,
   "metadata": {},
   "outputs": [],
   "source": [
    "def plotallan_phase(plt,y,rate,taus, style):\n",
    "\t(t2, ad, ade,adn) = allantools.mdev(y,rate=rate,taus=taus)\n",
    "\tplt.loglog(t2, ad, style)\n",
    "\n",
    "# plot a line with the slope alpha\n",
    "def plotline(plt, alpha, taus,style):\n",
    "\ty = [ pow(tt,alpha) for tt in taus]\n",
    "\tplt.loglog(taus,y,style)"
   ]
  },
  {
   "cell_type": "markdown",
   "metadata": {},
   "source": [
    "Generate some example data"
   ]
  },
  {
   "cell_type": "code",
   "execution_count": 4,
   "metadata": {},
   "outputs": [],
   "source": [
    "t = numpy.logspace( 0 ,4,50) # tau values from 1 to 1000\n",
    "\n",
    "N=10000\n",
    "rate = 1.0\n",
    "# white phase noise => 1/tau ADEV\n",
    "d = numpy.random.randn(4*N)\n",
    "phaseA = d[0:N] # numpy.random.randn(N) #pink(N)\n",
    "phaseA = [1*x for x in phaseA]\n",
    "phaseB = d[N:2*N] #numpy.random.randn(N) #noise.pink(N)\n",
    "phaseB = [5*x for x in phaseB]\n",
    "phaseC = d[2*N:3*N] #numpy.random.randn(N) #noise.pink(N)\n",
    "phaseC = [5*x for x in phaseC]\n",
    "\n",
    "phaseAB = [a-b for (a,b) in zip(phaseA,phaseB)]\n",
    "phaseBC = [b-c for (b,c) in zip(phaseB,phaseC)]\n",
    "phaseCA = [c-a for (c,a) in zip(phaseC,phaseA)]\n"
   ]
  },
  {
   "cell_type": "markdown",
   "metadata": {},
   "source": [
    "Now, run three-cornered hat phase calculation"
   ]
  },
  {
   "cell_type": "code",
   "execution_count": 5,
   "metadata": {},
   "outputs": [],
   "source": [
    "(taus,devA,err_a,ns_ab) = allantools.three_cornered_hat_phase(phaseAB,phaseBC,phaseCA,rate,t, allantools.mdev)"
   ]
  },
  {
   "cell_type": "markdown",
   "metadata": {},
   "source": [
    "Plot results:"
   ]
  },
  {
   "cell_type": "code",
   "execution_count": 6,
   "metadata": {},
   "outputs": [
    {
     "data": {
      "image/png": "[encoded data removed]",
      "text/plain": [
       "<matplotlib.figure.Figure at 0x7fe2b45a4c50>"
      ]
     },
     "metadata": {},
     "output_type": "display_data"
    }
   ],
   "source": [
    "plt.subplot(111, xscale=\"log\", yscale=\"log\")\n",
    "plotallan_phase(plt, phaseA, 1, t, 'ro')\n",
    "plotallan_phase(plt, phaseB, 1, t, 'go')\n",
    "plotallan_phase(plt, phaseC, 1, t, 'bo')\n",
    "\n",
    "plotallan_phase(plt, phaseAB, 1, t, 'r.')    \n",
    "plotallan_phase(plt, phaseBC, 1, t, 'g.')\n",
    "plotallan_phase(plt, phaseCA, 1, t, 'b.')    \n",
    "\n",
    "plt.loglog(taus, devA, 'rv')\n",
    "\n",
    "plt.grid()\n",
    "plt.show()"
   ]
  },
  {
   "cell_type": "code",
   "execution_count": null,
   "metadata": {},
   "outputs": [],
   "source": []
  },
  {
   "cell_type": "code",
   "execution_count": null,
   "metadata": {},
   "outputs": [],
   "source": []
  }
 ],
 "metadata": {
  "kernelspec": {
   "display_name": "Python 3",
   "language": "python",
   "name": "python3"
  },
  "language_info": {
   "codemirror_mode": {
    "name": "ipython",
    "version": 3
   },
   "file_extension": ".py",
   "mimetype": "text/x-python",
   "name": "python",
   "nbconvert_exporter": "python",
   "pygments_lexer": "ipython3",
   "version": "3.6.3"
  }
 },
 "nbformat": 4,
 "nbformat_minor": 1
}
